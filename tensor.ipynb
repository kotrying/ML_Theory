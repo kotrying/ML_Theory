{
  "cells": [
    {
      "cell_type": "markdown",
      "metadata": {
        "id": "view-in-github",
        "colab_type": "text"
      },
      "source": [
        "<a href=\"https://colab.research.google.com/github/kotrying/ML_Theory/blob/main/tensor.ipynb\" target=\"_parent\"><img src=\"https://colab.research.google.com/assets/colab-badge.svg\" alt=\"Open In Colab\"/></a>"
      ]
    },
    {
      "cell_type": "code",
      "execution_count": null,
      "metadata": {
        "id": "KGn-aVuWIgm_"
      },
      "outputs": [],
      "source": [
        "import numpy as np"
      ]
    },
    {
      "cell_type": "code",
      "execution_count": null,
      "metadata": {
        "id": "TqBUZwG9IgnL",
        "outputId": "7c0e77ff-9d86-4c9c-e2cb-3e12be16d0d3",
        "colab": {
          "base_uri": "https://localhost:8080/"
        }
      },
      "outputs": [
        {
          "output_type": "execute_result",
          "data": {
            "text/plain": [
              "array([1, 2, 3])"
            ]
          },
          "metadata": {},
          "execution_count": 2
        }
      ],
      "source": [
        "# 1階テンソル - ベクトル\n",
        "np.array([1,2,3])"
      ]
    },
    {
      "cell_type": "code",
      "execution_count": null,
      "metadata": {
        "id": "QmZPEAcnIgnQ",
        "outputId": "dacc18b5-3202-4071-e143-a9cd9f530c40",
        "colab": {
          "base_uri": "https://localhost:8080/"
        }
      },
      "outputs": [
        {
          "output_type": "execute_result",
          "data": {
            "text/plain": [
              "array([[1, 2, 3],\n",
              "       [4, 5, 6]])"
            ]
          },
          "metadata": {},
          "execution_count": 3
        }
      ],
      "source": [
        "# 2階テンソル - 行列\n",
        "np.array([[1,2,3],\n",
        "          [4,5,6]])"
      ]
    },
    {
      "cell_type": "code",
      "execution_count": null,
      "metadata": {
        "id": "1zTgzJQ9IgnT",
        "outputId": "60e52915-f307-4ec0-b8b4-6f63c0b53435",
        "colab": {
          "base_uri": "https://localhost:8080/"
        }
      },
      "outputs": [
        {
          "output_type": "execute_result",
          "data": {
            "text/plain": [
              "array([[[1, 2, 3],\n",
              "        [2, 3, 4]],\n",
              "\n",
              "       [[2, 3, 4],\n",
              "        [5, 6, 7]]])"
            ]
          },
          "metadata": {},
          "execution_count": 4
        }
      ],
      "source": [
        "# 3階テンソル\n",
        "np.array([[[1,2,3],\n",
        "           [2,3,4]],\n",
        "          [[2,3,4],\n",
        "           [5,6,7]]])"
      ]
    },
    {
      "cell_type": "code",
      "execution_count": null,
      "metadata": {
        "id": "bHe7Ed_9IgnW",
        "outputId": "914df76d-a03b-46fd-a86a-4a10b4e121cf",
        "colab": {
          "base_uri": "https://localhost:8080/"
        }
      },
      "outputs": [
        {
          "output_type": "stream",
          "name": "stdout",
          "text": [
            "ベクトル\n",
            " [ 0  1  2  3  4  5  6  7  8  9 10 11 12 13 14 15 16 17 18 19 20 21 22 23]\n",
            "ベクトルの形状\n",
            " (24,)\n",
            "3階テンソル\n",
            " [[[ 0  1  2  3]\n",
            "  [ 4  5  6  7]\n",
            "  [ 8  9 10 11]]\n",
            "\n",
            " [[12 13 14 15]\n",
            "  [16 17 18 19]\n",
            "  [20 21 22 23]]]\n",
            "3階テンソルの形状\n",
            " (2, 3, 4)\n"
          ]
        }
      ],
      "source": [
        "# テンソルの次元を変更する\n",
        "tensor1 = np.arange(24)\n",
        "print('ベクトル\\n', tensor1)\n",
        "print('ベクトルの形状\\n', tensor1.shape)\n",
        "# 1階テンソルから3階テンソルへ\n",
        "tensor3 = tensor1.reshape(2,3,4)\n",
        "print('3階テンソル\\n', tensor3)\n",
        "print('3階テンソルの形状\\n', tensor3.shape)"
      ]
    },
    {
      "cell_type": "code",
      "execution_count": null,
      "metadata": {
        "id": "mmKKiBEWIgnY",
        "outputId": "335dff39-8742-49bc-ce79-b3dda399e56e",
        "colab": {
          "base_uri": "https://localhost:8080/"
        }
      },
      "outputs": [
        {
          "output_type": "stream",
          "name": "stdout",
          "text": [
            "4階テンソル\n",
            " [[[[ 0  1]\n",
            "   [ 2  3]\n",
            "   [ 4  5]]\n",
            "\n",
            "  [[ 6  7]\n",
            "   [ 8  9]\n",
            "   [10 11]]]\n",
            "\n",
            "\n",
            " [[[12 13]\n",
            "   [14 15]\n",
            "   [16 17]]\n",
            "\n",
            "  [[18 19]\n",
            "   [20 21]\n",
            "   [22 23]]]]\n",
            "4階テンソルの形状\n",
            " (2, 2, 3, 2)\n"
          ]
        }
      ],
      "source": [
        "# 3階テンソルから4階テンソルへ\n",
        "tensor4 = tensor3.reshape(2,2,3,2)\n",
        "print('4階テンソル\\n', tensor4)\n",
        "print('4階テンソルの形状\\n', tensor4.shape)"
      ]
    },
    {
      "cell_type": "code",
      "execution_count": null,
      "metadata": {
        "id": "UFkSA19xIgna",
        "outputId": "08151971-807b-4a24-fe1a-f60ab5bfe23c",
        "colab": {
          "base_uri": "https://localhost:8080/",
          "height": 183
        }
      },
      "outputs": [
        {
          "output_type": "error",
          "ename": "ValueError",
          "evalue": "ignored",
          "traceback": [
            "\u001b[0;31m---------------------------------------------------------------------------\u001b[0m",
            "\u001b[0;31mValueError\u001b[0m                                Traceback (most recent call last)",
            "\u001b[0;32m<ipython-input-7-e592558a0f5c>\u001b[0m in \u001b[0;36m<module>\u001b[0;34m\u001b[0m\n\u001b[1;32m      1\u001b[0m \u001b[0;31m# 要素数が異なる場合はエラー\u001b[0m\u001b[0;34m\u001b[0m\u001b[0;34m\u001b[0m\u001b[0;34m\u001b[0m\u001b[0m\n\u001b[0;32m----> 2\u001b[0;31m \u001b[0mtensor3\u001b[0m\u001b[0;34m.\u001b[0m\u001b[0mreshape\u001b[0m\u001b[0;34m(\u001b[0m\u001b[0;36m2\u001b[0m\u001b[0;34m,\u001b[0m\u001b[0;36m2\u001b[0m\u001b[0;34m,\u001b[0m\u001b[0;36m2\u001b[0m\u001b[0;34m,\u001b[0m\u001b[0;36m5\u001b[0m\u001b[0;34m)\u001b[0m\u001b[0;34m\u001b[0m\u001b[0;34m\u001b[0m\u001b[0m\n\u001b[0m",
            "\u001b[0;31mValueError\u001b[0m: cannot reshape array of size 24 into shape (2,2,2,5)"
          ]
        }
      ],
      "source": [
        "# 要素数が異なる場合はエラー\n",
        "tensor3.reshape(2,2,2,5)"
      ]
    },
    {
      "cell_type": "code",
      "execution_count": null,
      "metadata": {
        "id": "CaKWVhj4Ignc",
        "outputId": "9a4c9373-b2cd-4613-912b-7cfffdd5a0f8",
        "colab": {
          "base_uri": "https://localhost:8080/"
        }
      },
      "outputs": [
        {
          "output_type": "stream",
          "name": "stdout",
          "text": [
            "4階テンソル\n",
            " [[[[ 0  1  2  3]\n",
            "   [ 4  5  6  7]\n",
            "   [ 8  9 10 11]]\n",
            "\n",
            "  [[12 13 14 15]\n",
            "   [16 17 18 19]\n",
            "   [20 21 22 23]]]\n",
            "\n",
            "\n",
            " [[[24 25 26 27]\n",
            "   [28 29 30 31]\n",
            "   [32 33 34 35]]\n",
            "\n",
            "  [[36 37 38 39]\n",
            "   [40 41 42 43]\n",
            "   [44 45 46 47]]]]\n",
            "4階テンソルの形状\n",
            " (2, 2, 3, 4)\n",
            "軸変更4階テンソル\n",
            " [[[[ 0 24]\n",
            "   [ 1 25]\n",
            "   [ 2 26]\n",
            "   [ 3 27]]\n",
            "\n",
            "  [[ 4 28]\n",
            "   [ 5 29]\n",
            "   [ 6 30]\n",
            "   [ 7 31]]\n",
            "\n",
            "  [[ 8 32]\n",
            "   [ 9 33]\n",
            "   [10 34]\n",
            "   [11 35]]]\n",
            "\n",
            "\n",
            " [[[12 36]\n",
            "   [13 37]\n",
            "   [14 38]\n",
            "   [15 39]]\n",
            "\n",
            "  [[16 40]\n",
            "   [17 41]\n",
            "   [18 42]\n",
            "   [19 43]]\n",
            "\n",
            "  [[20 44]\n",
            "   [21 45]\n",
            "   [22 46]\n",
            "   [23 47]]]]\n",
            "軸変更4階テンソルの形状\n",
            " (2, 3, 4, 2)\n"
          ]
        }
      ],
      "source": [
        "# テンソルの軸を変更する\n",
        "tensor4 = np.arange(48).reshape(2,2,3,4)\n",
        "print('4階テンソル\\n', tensor4)\n",
        "print('4階テンソルの形状\\n', tensor4.shape)\n",
        "# axis (0,1,2,3) -> (1,2,3,0)\n",
        "tensor4t = tensor4.transpose(1,2,3,0)\n",
        "print('軸変更4階テンソル\\n', tensor4t)\n",
        "print('軸変更4階テンソルの形状\\n', tensor4t.shape)"
      ]
    }
  ],
  "metadata": {
    "kernelspec": {
      "display_name": "Python 3.9.1 64-bit",
      "language": "python",
      "name": "python3"
    },
    "language_info": {
      "codemirror_mode": {
        "name": "ipython",
        "version": 3
      },
      "file_extension": ".py",
      "mimetype": "text/x-python",
      "name": "python",
      "nbconvert_exporter": "python",
      "pygments_lexer": "ipython3",
      "version": "3.9.1"
    },
    "orig_nbformat": 4,
    "vscode": {
      "interpreter": {
        "hash": "e7624e9971d183e409976ef8950e4d4269db9733b2ebb412c7b5f577c0498f03"
      }
    },
    "colab": {
      "provenance": [],
      "include_colab_link": true
    }
  },
  "nbformat": 4,
  "nbformat_minor": 0
}